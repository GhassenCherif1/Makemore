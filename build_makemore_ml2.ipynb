{
 "cells": [
  {
   "cell_type": "code",
   "execution_count": 2,
   "metadata": {},
   "outputs": [],
   "source": [
    "import torch\n",
    "import torch.nn.functional as F\n",
    "import matplotlib.pyplot as plt"
   ]
  },
  {
   "cell_type": "code",
   "execution_count": 65,
   "metadata": {},
   "outputs": [],
   "source": [
    "words = open(\"names.txt\",\"r\").read().splitlines()"
   ]
  },
  {
   "cell_type": "code",
   "execution_count": 66,
   "metadata": {},
   "outputs": [],
   "source": [
    "chars = sorted(list(set(\"\".join(words))))\n",
    "stoi = { s:i+1 for i,s in enumerate(chars) }\n",
    "stoi[\".\"] = 0\n",
    "itos = {i:s for s,i in stoi.items()}"
   ]
  },
  {
   "cell_type": "code",
   "execution_count": 77,
   "metadata": {},
   "outputs": [
    {
     "name": "stdout",
     "output_type": "stream",
     "text": [
      "torch.Size([182511, 3]) torch.Size([182511])\n",
      "torch.Size([22813, 3]) torch.Size([22813])\n",
      "torch.Size([22822, 3]) torch.Size([22822])\n"
     ]
    }
   ],
   "source": [
    "block_size = 3\n",
    "n1 = int(0.8 * len(words))\n",
    "n2 = int(0.1 * len(words))\n",
    "def build_dataset(words):\n",
    "    X,Y = [],[]\n",
    "    for w in words:\n",
    "        #print(w)\n",
    "        chars = \".\"*block_size + w + \".\" \n",
    "        for i in range(len(chars)-block_size):\n",
    "            X.append([stoi[ix] for ix in chars[i:i+block_size]])\n",
    "            Y.append(stoi[chars[i+block_size]])\n",
    "            #print(f\"{chars[i:i+n]} -> {chars[i+n]}\")\n",
    "    X = torch.tensor(X)\n",
    "    Y = torch.tensor(Y)\n",
    "    print(X.shape,Y.shape)\n",
    "    return(X,Y)\n",
    "import random\n",
    "random.shuffle(words)\n",
    "Xtr , Ytr = build_dataset(words[:n1])\n",
    "Xdev , Ydev = build_dataset(words[n1:n1+n2])\n",
    "Xtest , Ytest = build_dataset(words[n1+n2:])"
   ]
  },
  {
   "cell_type": "code",
   "execution_count": 105,
   "metadata": {},
   "outputs": [],
   "source": [
    "n_hidden = 100\n",
    "n_emb = 2\n",
    "bngain = torch.ones((1,n_hidden))\n",
    "bnbias = torch.zeros((1,n_hidden))\n",
    "g = torch.Generator().manual_seed(21715050)\n",
    "C = torch.randn((27,n_emb),generator=g)\n",
    "W1 = torch.randn(((n_emb * block_size),n_hidden),generator=g) * 0.2\n",
    "b1 = torch.randn((n_hidden),generator=g) *0.01\n",
    "W2 = torch.randn((n_hidden,27),generator=g) * 0.01\n",
    "b2 = torch.randn((27),generator=g) * 0.01\n",
    "parameters = [C,W1,b1,W2,b2,bngain,bnbias]\n",
    "for p in parameters:\n",
    "    p.requires_grad = True"
   ]
  },
  {
   "cell_type": "code",
   "execution_count": 108,
   "metadata": {},
   "outputs": [
    {
     "name": "stdout",
     "output_type": "stream",
     "text": [
      "2.6273841857910156\n",
      "2.7433834075927734\n",
      "2.8380520343780518\n",
      "2.6460659503936768\n",
      "2.844289541244507\n",
      "2.7873127460479736\n",
      "2.9730064868927\n",
      "2.6482222080230713\n",
      "2.5687053203582764\n",
      "2.5275919437408447\n",
      "2.7114365100860596\n",
      "3.0328025817871094\n",
      "2.5273687839508057\n",
      "2.4105594158172607\n",
      "2.8540399074554443\n",
      "2.6271586418151855\n",
      "2.580650568008423\n",
      "2.5679709911346436\n",
      "2.4741382598876953\n",
      "2.7595698833465576\n",
      "2.5418295860290527\n",
      "2.845902681350708\n",
      "2.4740662574768066\n",
      "2.819683074951172\n",
      "2.450183153152466\n",
      "2.6271297931671143\n",
      "2.5503485202789307\n",
      "2.447953224182129\n",
      "2.6877286434173584\n",
      "2.634307622909546\n"
     ]
    }
   ],
   "source": [
    "batch_size = 32\n",
    "max_steps = 3000\n",
    "for i in range(max_steps):\n",
    "\n",
    "    ix =  torch.randint(0,Xtr.shape[0],(batch_size,))    \n",
    "    # forward pass\n",
    "    emb = C[Xtr][ix] # (32,3,2)\n",
    "    embcat = emb.view(-1,n_emb*block_size)\n",
    "    hpreact = embcat @ W1 + b1\n",
    "    hpreact =  bngain* (hpreact - hpreact.mean(0,keepdim=True))/ hpreact.std(0,keepdim=True) + bnbias\n",
    "    h = torch.tanh(hpreact)\n",
    "    logits = h @ W2 + b2\n",
    "    # counts = logits.exp()\n",
    "    # probs = counts / counts.sum(1,keepdim=True)\n",
    "    # loss = -probs[torch.arange(32),Y].log().mean()\n",
    "    loss = F.cross_entropy(logits,Ytr[ix])\n",
    "    if(i % 100 == 0):\n",
    "        print(loss.item())\n",
    "    # backward pass\n",
    "    for p in parameters:\n",
    "        p.grad = None\n",
    "    loss.backward()\n",
    "    # update\n",
    "    lr = 0.1 if i<2000 else 0.01\n",
    "    for p in parameters:\n",
    "        p.data += -0.007 * p.grad\n"
   ]
  },
  {
   "cell_type": "code",
   "execution_count": 87,
   "metadata": {},
   "outputs": [
    {
     "data": {
      "text/plain": [
       "(array([ 10.,  16.,  14.,  35.,  46.,  57.,  58.,  62.,  40.,  50.,  53.,\n",
       "         65.,  77.,  73.,  94.,  91.,  73.,  67., 103., 105.,  98., 104.,\n",
       "         83.,  74., 117.,  96., 120., 105.,  92., 100.,  86.,  95.,  53.,\n",
       "         74.,  72.,  75.,  75.,  58.,  76.,  39.,  52.,  51.,  48.,  49.,\n",
       "         32.,  18.,  24.,  25.,  12.,   8.]),\n",
       " array([-0.94490361, -0.90720687, -0.86951013, -0.83181339, -0.79411665,\n",
       "        -0.75641991, -0.71872318, -0.68102644, -0.6433297 , -0.60563296,\n",
       "        -0.56793622, -0.53023948, -0.49254274, -0.454846  , -0.41714926,\n",
       "        -0.37945252, -0.34175578, -0.30405904, -0.2663623 , -0.22866556,\n",
       "        -0.19096882, -0.15327208, -0.11557534, -0.07787861, -0.04018187,\n",
       "        -0.00248513,  0.03521161,  0.07290835,  0.11060509,  0.14830183,\n",
       "         0.18599857,  0.22369531,  0.26139205,  0.29908879,  0.33678553,\n",
       "         0.37448227,  0.41217901,  0.44987575,  0.48757249,  0.52526923,\n",
       "         0.56296597,  0.6006627 ,  0.63835944,  0.67605618,  0.71375292,\n",
       "         0.75144966,  0.7891464 ,  0.82684314,  0.86453988,  0.90223662,\n",
       "         0.93993336]),\n",
       " <BarContainer object of 50 artists>)"
      ]
     },
     "execution_count": 87,
     "metadata": {},
     "output_type": "execute_result"
    },
    {
     "data": {
      "image/png": "[encoded data removed]",
      "text/plain": [
       "<Figure size 640x480 with 1 Axes>"
      ]
     },
     "metadata": {},
     "output_type": "display_data"
    }
   ],
   "source": [
    "plt.hist(h.view(-1).tolist(),50)"
   ]
  },
  {
   "cell_type": "code",
   "execution_count": 110,
   "metadata": {},
   "outputs": [],
   "source": [
    "with torch.no_grad():\n",
    "    emb = C[Xtr]\n",
    "    embcat = emb.view(-1,n_emb*block_size)\n",
    "    hpreact = embcat @ W1 + b1\n",
    "    bnmean = hpreact.mean(0,keepdim=True)\n",
    "    bnstd = hpreact.std(0,keepdim=True)"
   ]
  },
  {
   "cell_type": "code",
   "execution_count": 111,
   "metadata": {},
   "outputs": [
    {
     "name": "stdout",
     "output_type": "stream",
     "text": [
      "train 2.6270530223846436\n",
      "val 2.629551887512207\n"
     ]
    }
   ],
   "source": [
    "@torch.no_grad()\n",
    "def split_loss(split):\n",
    "    x,y = {\n",
    "        \"train\": (Xtr,Ytr),\n",
    "        \"val\": (Xdev,Ydev),\n",
    "        \"test\":(Xtest,Ytest)\n",
    "    }[split]\n",
    "    emb = C[x]\n",
    "    embcat = emb.view(-1,n_emb*block_size)\n",
    "    hpreact = embcat @ W1 + b1\n",
    "    hpreact =  bngain* (hpreact - bnmean)/ (bnstd+0.01) + bnbias\n",
    "    h = torch.tanh(hpreact)\n",
    "    logits = h @ W2 + b2\n",
    "    loss = F.cross_entropy(logits,y)\n",
    "    print(split , loss.item())\n",
    "split_loss(\"train\")\n",
    "split_loss(\"val\")"
   ]
  },
  {
   "cell_type": "markdown",
   "metadata": {},
   "source": [
    "Original:\n",
    "train 2.71\n",
    "val 2.705\n",
    "fix softmax initializations:\n",
    "train 2.5763285160064697\n",
    "val 2.5684869289398193"
   ]
  },
  {
   "cell_type": "code",
   "execution_count": null,
   "metadata": {},
   "outputs": [],
   "source": [
    "for _ in range(20):    \n",
    "    out = []\n",
    "    context = [0]*block_size\n",
    "    while True:\n",
    "        emb = C[context]\n",
    "        h = torch.tanh(emb.view(1,-1) @ W1 + b1)\n",
    "        logits = h @ W2 + b2\n",
    "        probs = F.softmax(logits,dim=1)\n",
    "        ix = torch.multinomial(probs,num_samples=1,replacement=True,generator=g).item()\n",
    "        context = context[1:] + [ix]\n",
    "        out.append(ix)\n",
    "        if(ix == 0):\n",
    "            break\n",
    "    print(\"\".join([itos[i] for i in out]))\n"
   ]
  },
  {
   "cell_type": "code",
   "execution_count": 61,
   "metadata": {},
   "outputs": [
    {
     "data": {
      "text/plain": [
       "tensor([[ 0.7108,  0.1226,  0.0958, -0.2214,  1.1474],\n",
       "        [ 0.3368,  0.0491,  0.0233, -0.2686, -0.6203],\n",
       "        [ 0.8205,  0.5875, -0.4193, -0.0729,  0.0642]])"
      ]
     },
     "execution_count": 61,
     "metadata": {},
     "output_type": "execute_result"
    }
   ],
   "source": [
    "w = torch.empty(3,5)\n",
    "torch.nn.init.kaiming_normal_(w,mode='fan_in')"
   ]
  },
  {
   "cell_type": "code",
   "execution_count": 113,
   "metadata": {},
   "outputs": [],
   "source": [
    "from typing import Any\n",
    "\n",
    "\n",
    "class Linear:\n",
    "    def __init__(self,fan_in,fan_out,bias=True):\n",
    "        self.weights = torch.randn((fan_in,fan_out),generator=g) / fan_in**0.5\n",
    "        self.bias = torch.zeros(fan_in) if bias else None\n",
    "    def __call__(self, x):\n",
    "        self.out = x @ self.weights\n",
    "        if self.bias:\n",
    "            self.out += self.bias\n",
    "        return self.out\n",
    "    def parameters(self):\n",
    "        return([self.weights] + ([] if self.bias is None else [self.bias]))\n",
    "class BatchNoram1d:\n",
    "    def __init__(self,dim,eps=1e-5,momentum = 0.1):\n",
    "        self.eps = eps\n",
    "        self.momentum = momentum\n",
    "        self.training = True\n",
    "        self.gamma = torch.ones(dim)\n",
    "        self.beta = torch.zeros(dim)\n",
    "        self.running_mean = torch.zeros(dim)\n",
    "        self.running_var = torch.ones(dim)\n",
    "    def __call__(self, x ):\n",
    "        if self.training:\n",
    "            xmean = x.mean(0,keepdim=True)\n",
    "            xvar = x.std(0,keepdim=True)\n",
    "        else:\n",
    "            xmean = self.running_mean\n",
    "            xvar = self.running_var\n",
    "        xhat = (x - xmean) / torch.sqrt(xvar+self.eps)\n",
    "        self.out = self.gamma * xhat + self.beta\n",
    "        # update the buffers\n",
    "        if self.training:\n",
    "          with torch.no_grad():\n",
    "            self.running_mean = (1 - self.momentum) * self.running_mean + self.momentum * xmean\n",
    "            self.running_var = (1 - self.momentum) * self.running_var + self.momentum * xvar\n",
    "        return self.out\n",
    "    def parameters(self):\n",
    "        return([self.gamma,self.beta])\n",
    "class Tanh:\n",
    "    def __call__(self, x):\n",
    "        self.out = torch.tanh(x)\n",
    "        return self.out\n",
    "    def parameters():\n",
    "        return []\n",
    "  "
   ]
  },
  {
   "cell_type": "code",
   "execution_count": null,
   "metadata": {},
   "outputs": [],
   "source": [
    "n_emb = 2\n",
    "vocab_size = 27\n",
    "n_hidden = 100\n",
    "C = torch.randn((vocab_size,n_emb))\n",
    "layers = [\n",
    "    Linear(n_emb*block_size , n_hidden,False) , BatchNoram1d(n_hidden) , Tanh(),\n",
    "    Linear(n_hidden , n_hidden,False) , BatchNoram1d(n_hidden) , Tanh(),\n",
    "    Linear(n_hidden , n_hidden,False) , BatchNoram1d(n_hidden) , Tanh(),\n",
    "    Linear(n_hidden , n_hidden,False) , BatchNoram1d(n_hidden) , Tanh(),\n",
    "    Linear(n_hidden , vocab_size) , BatchNoram1d(n_hidden)\n",
    "]\n",
    "\n",
    "parameters =[C] + [p for l in layers for p in l.parameters()]\n",
    "for p in parameters:\n",
    "    p.requires_grad = True"
   ]
  },
  {
   "cell_type": "code",
   "execution_count": null,
   "metadata": {},
   "outputs": [],
   "source": [
    "max_steps = 5000\n",
    "batch_size = 32\n",
    "for i in range(max_steps):\n",
    "    ix = torch.randint(0,Xtr.shape[0],(batch_size,))\n",
    "    Xb , Yb = Xtr[ix] , Ytr[ix]\n",
    "    emb = C[Xb]\n",
    "    x = emb.view(-1,block_size*n_emb)\n",
    "    for layer in layers:\n",
    "        x = layer(x)\n",
    "    loss = F.cross_entropy(x,Yb)\n",
    "\n",
    "    for p in parameters:\n",
    "        p.grad = None\n",
    "    loss.backward\n",
    "    lr = 0.1\n",
    "    for p in parameters:\n",
    "        p.data += -lr * p.grad"
   ]
  },
  {
   "cell_type": "code",
   "execution_count": null,
   "metadata": {},
   "outputs": [],
   "source": [
    "for _ in range(20):\n",
    "    out = []\n",
    "    context = [0]*block_size\n",
    "    while True:\n",
    "        emb = C[torch.tensor([context])]\n",
    "        x = emb.view(-1,block_size*n_emb)\n",
    "        for layer in layers:\n",
    "            x = layer(x)\n",
    "        logits = x\n",
    "        probs = F.softmax(logits)\n",
    "        ix = torch.multinomial(probs,1).item()\n",
    "        out.append(itos[ix])\n",
    "        context = context[1:] + [ix]\n",
    "        if(ix == 0):\n",
    "            break\n",
    "    print(\"\".join([out]))"
   ]
  },
  {
   "cell_type": "code",
   "execution_count": 4,
   "metadata": {},
   "outputs": [
    {
     "data": {
      "text/plain": [
       "torch.Size([4, 10])"
      ]
     },
     "execution_count": 4,
     "metadata": {},
     "output_type": "execute_result"
    }
   ],
   "source": [
    "import torch \n",
    "w = torch.rand(10)\n",
    "a = torch.randn((4,10))\n",
    "k = a + w\n",
    "k.shape"
   ]
  },
  {
   "cell_type": "code",
   "execution_count": null,
   "metadata": {},
   "outputs": [],
   "source": []
  }
 ],
 "metadata": {
  "kernelspec": {
   "display_name": "openmmlab",
   "language": "python",
   "name": "python3"
  },
  "language_info": {
   "codemirror_mode": {
    "name": "ipython",
    "version": 3
   },
   "file_extension": ".py",
   "mimetype": "text/x-python",
   "name": "python",
   "nbconvert_exporter": "python",
   "pygments_lexer": "ipython3",
   "version": "3.8.19"
  }
 },
 "nbformat": 4,
 "nbformat_minor": 2
}
